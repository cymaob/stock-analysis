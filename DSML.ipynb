{
  "nbformat": 4,
  "nbformat_minor": 0,
  "metadata": {
    "colab": {
      "provenance": []
    },
    "kernelspec": {
      "name": "python3",
      "display_name": "Python 3"
    },
    "language_info": {
      "name": "python"
    }
  },
  "cells": [
    {
      "cell_type": "markdown",
      "source": [
        "# Stock analysis\n",
        "\n",
        "This Python notebook is designed to analyze the performance of Tesla and Volkswagen stocks, comparing their daily returns, cumulative returns, volatility, and beta relative to the S&P 500 index.\n",
        "\n",
        "We begin by importing necessary libraries such as pandas, yfinance, and plotly for data manipulation, financial data retrieval, and data visualization respectively. We then specify the ticker symbols for Tesla and Volkswagen, along with the desired date range for our analysis.\n",
        "\n",
        "Next, we download the historical market data for these stocks and the S&P 500 index using the yfinance library. We calculate the daily return for each stock, which is the percentage change in the adjusted closing price from one day to the next.\n",
        "\n",
        "We then proceed to calculate the cumulative return for each stock, which is the total return from the beginning of the period to the current date. This is followed by the calculation of the volatility for each stock, which is a measure of the dispersion of the stock's returns.\n",
        "\n",
        "Finally, we calculate the beta for each stock relative to the S&P 500 index. Beta is a measure of a stock's risk in relation to the market. We then compare the betas of Tesla and Volkswagen to determine which stock is more volatile.\n",
        "\n",
        "Throughout the notebook, we use various plotly figures to visually represent the data and findings. The notebook provides a comprehensive analysis of the performance of Tesla and Volkswagen stocks, offering insights into their daily returns, cumulative returns, volatility, and beta."
      ],
      "metadata": {
        "id": "JDu0AqVg4IW4"
      }
    },
    {
      "cell_type": "markdown",
      "source": [
        "1. `import pandas as pd`: This line imports the pandas library, which is a powerful data manipulation and analysis tool. The `as pd` part is just renaming the library to `pd` for convenience, so you don't have to type out `pandas` every time you use it.\n",
        "\n",
        "2. `import yfinance as yf`: This line imports the yfinance library, which is a convenient tool for downloading historical market data from Yahoo Finance. Again, `as yf` is just renaming the library for easier reference.\n",
        "\n",
        "3. `import plotly.io as pio`: This line imports the `io` module from the Plotly library. Plotly is a graphing library that makes interactive, publication-quality graphs. The `io` module contains functions for reading and writing data, among other things.\n",
        "\n",
        "4. `import plotly.graph_objects as go`: This line imports the `graph_objects` module from Plotly. This module contains classes for creating different types of plots (like scatter plots, bar charts, etc.).\n",
        "\n",
        "5. `pio.templates.default = \"plotly_white\"`: This line sets the default template for Plotly graphs to \"plotly_white\". This means that any graphs you create using Plotly will use this template by default. There are many other templates available, like \"plotly_dark\", \"plotly\", \"ggplot2\", etc."
      ],
      "metadata": {
        "id": "Zi4EMsm_W6bT"
      }
    },
    {
      "cell_type": "code",
      "execution_count": 3,
      "metadata": {
        "id": "Vn9JBEc6W2m6"
      },
      "outputs": [],
      "source": [
        "import pandas as pd\n",
        "import yfinance as yf\n",
        "import plotly.io as pio\n",
        "import plotly.graph_objects as go\n",
        "pio.templates.default = \"plotly_white\""
      ]
    },
    {
      "cell_type": "markdown",
      "source": [
        "1. `tesla_ticker = 'TSLA'` and `vw_ticker = 'VOW3.DE'`: These lines define the ticker symbols for Tesla and Volkswagen respectively. Ticker symbols are unique identifiers for publicly traded companies.\n",
        "\n",
        "2. `start_date = '2023-10-01'` and `end_date = '2023-12-31'`: These lines set the date range for the data download. The data will include all trading days between October 1, 2023, and December 31, 2023.\n",
        "\n",
        "3. `tesla_data = yf.download(tesla_ticker, start=start_date, end=end_date)`: This line uses the `yf.download()` function from the yfinance library to download historical market data for Tesla. The data includes the opening price, high, low, close, adjusted close, and volume for each trading day within the specified date range.\n",
        "\n",
        "4. `vw_data = yf.download(vw_ticker, start=start_date, end=end_date)`: Similarly, this line downloads historical market data for Volkswagen.\n"
      ],
      "metadata": {
        "id": "ea3AQ3Z-XBk1"
      }
    },
    {
      "cell_type": "code",
      "source": [
        "tesla_ticker = 'TSLA'\n",
        "vw_ticker = 'VOW3.DE'\n",
        "\n",
        "start_date = '2023-10-01'\n",
        "end_date = '2023-12-31'\n",
        "\n",
        "tesla_data = yf.download(tesla_ticker, start=start_date, end=end_date)\n",
        "vw_data = yf.download(vw_ticker, start=start_date, end=end_date)"
      ],
      "metadata": {
        "colab": {
          "base_uri": "https://localhost:8080/"
        },
        "id": "2SNYE3mPXCj8",
        "outputId": "a7b6372c-7669-4b81-933f-eaee60ee0ff3"
      },
      "execution_count": 4,
      "outputs": [
        {
          "output_type": "stream",
          "name": "stderr",
          "text": [
            "[*********************100%%**********************]  1 of 1 completed\n",
            "[*********************100%%**********************]  1 of 1 completed\n"
          ]
        }
      ]
    },
    {
      "cell_type": "markdown",
      "source": [
        "1. `tesla_data['Daily_Return'] = tesla_data['Adj Close'].pct_change()`: This line calculates the daily return for Tesla. It does this by taking the percentage change in the adjusted closing price (`'Adj Close'`) from one day to the next. The result is stored in a new column called `'Daily_Return'`.\n",
        "\n",
        "2. `vw_data['Daily_Return'] = vw_data['Adj Close'].pct_change()`: Similarly, this line calculates the daily return for Volkswagen. It also takes the percentage change in the adjusted closing price from one day to the next, and stores the result in a new column called `'Daily_Return'`.\n",
        "\n",
        "The daily return is a common measure used in finance to understand how much a stock's price has changed over a single day. It's calculated as the percentage change in the stock's price from the previous day."
      ],
      "metadata": {
        "id": "ngU29DmBXDju"
      }
    },
    {
      "cell_type": "code",
      "source": [
        "tesla_data['Daily_Return'] = tesla_data['Adj Close'].pct_change()\n",
        "vw_data['Daily_Return'] = vw_data['Adj Close'].pct_change()"
      ],
      "metadata": {
        "id": "v2PeBEeMXDaN"
      },
      "execution_count": 5,
      "outputs": []
    },
    {
      "cell_type": "markdown",
      "source": [
        "1. `fig = go.Figure()`: This line creates a new figure object, which is a container for all the elements of the plot.\n",
        "\n",
        "2. The next two lines add traces to the figure. Each trace represents a line on the plot. The first trace is for Tesla's daily returns, and the second trace is for Volkswagen's daily returns. The `x` parameter is the index of the DataFrame (which represents dates), and the `y` parameter is the daily return. The `mode` parameter is set to `'lines'`, which means the data will be represented as a line. The `name` parameter is used to label the line in the legend, and the `line` parameter is used to customize the appearance of the line.\n",
        "\n",
        "3. `fig.update_layout(...)`: This line updates the layout of the figure. It sets the title of the plot, labels the x-axis and y-axis, and positions the legend.\n",
        "\n",
        "4. `fig.show()`: Finally, this line displays the figure."
      ],
      "metadata": {
        "id": "ZVED4aCnXDNx"
      }
    },
    {
      "cell_type": "code",
      "source": [
        "fig = go.Figure()\n",
        "\n",
        "fig.add_trace(go.Scatter(x=tesla_data.index, y=tesla_data['Daily_Return'],\n",
        "                         mode='lines', name='tesla', line=dict(color='blue')))\n",
        "fig.add_trace(go.Scatter(x=vw_data.index, y=vw_data['Daily_Return'],\n",
        "                         mode='lines', name='vw', line=dict(color='green')))\n",
        "\n",
        "fig.update_layout(title='Daily Returns for tesla and vw (Last Quarter)',\n",
        "                  xaxis_title='Date', yaxis_title='Daily Return',\n",
        "                  legend=dict(x=0.02, y=0.95))\n",
        "\n",
        "fig.show()"
      ],
      "metadata": {
        "id": "MJu9lsdJXRFQ"
      },
      "execution_count": null,
      "outputs": []
    },
    {
      "cell_type": "markdown",
      "source": [
        "1. `tesla_cumulative_return = (1 + tesla_data['Daily_Return']).cumprod() - 1` and `vw_cumulative_return = (1 + vw_data['Daily_Return']).cumprod() - 1`: These lines calculate the cumulative return for Tesla and Volkswagen. They do this by adding 1 to the daily return, then taking the cumulative product (`cumprod`). Subtracting 1 at the end converts the compounded return back into a simple return.\n",
        "\n",
        "2. `fig = go.Figure()`: This line creates a new figure object, which is a container for all the elements of the plot.\n",
        "\n",
        "3. The next two lines add traces to the figure. Each trace represents a line on the plot. The first trace is for Tesla's cumulative returns, and the second trace is for Volkswagen's cumulative returns. The `x` parameter is the index of the DataFrame (which represents dates), and the `y` parameter is the cumulative return. The `mode` parameter is set to `'lines'`, which means the data will be represented as a line. The `name` parameter is used to label the line in the legend, and the `line` parameter is used to customize the appearance of the line.\n",
        "\n",
        "4. `fig.update_layout(...)`: This line updates the layout of the figure. It sets the title of the plot, labels the x-axis and y-axis, and positions the legend.\n",
        "\n",
        "5. `fig.show()`: Finally, this line displays the figure."
      ],
      "metadata": {
        "id": "L9b3ysHNXila"
      }
    },
    {
      "cell_type": "code",
      "source": [
        "tesla_cumulative_return = (1 + tesla_data['Daily_Return']).cumprod() - 1\n",
        "vw_cumulative_return = (1 + vw_data['Daily_Return']).cumprod() - 1\n",
        "\n",
        "\n",
        "fig = go.Figure()\n",
        "fig.add_trace(go.Scatter(x=tesla_cumulative_return.index, y=tesla_cumulative_return,\n",
        "                         mode='lines', name='Tesla', line=dict(color='blue')))\n",
        "fig.add_trace(go.Scatter(x=vw_cumulative_return.index, y=vw_cumulative_return,\n",
        "                         mode='lines', name='VW', line=dict(color='green')))\n",
        "\n",
        "fig.update_layout(title='Cumulative Returns for tesla and vw (Last Quarter)',\n",
        "                  xaxis_title='Date', yaxis_title='Cumulative Return',\n",
        "                  legend=dict(x=0.02, y=0.95))\n",
        "\n",
        "fig.show()"
      ],
      "metadata": {
        "id": "8y-nyG3cXhV-"
      },
      "execution_count": null,
      "outputs": []
    },
    {
      "cell_type": "markdown",
      "source": [
        "1. `tesla_volatility = tesla_data['Daily_Return'].std()` and `vw_volatility = vw_data['Daily_Return'].std()`: These lines calculate the standard deviation of the daily returns for Tesla and Volkswagen. The standard deviation is a measure of volatility, with higher values indicating greater volatility.\n",
        "\n",
        "2. `fig1 = go.Figure()`: This line creates a new figure object, which is a container for all the elements of the plot.\n",
        "\n",
        "3. `fig1.add_bar(...)`: This line adds a bar to the figure. The `x` parameter is a list of labels for the bars, and the `y` parameter is a list of heights for the bars. The `text` parameter is a list of strings that will be displayed inside the bars. The `textposition` parameter is set to `'auto'`, which means the position of the text will be automatically determined. The `marker` parameter is used to customize the appearance of the bars.\n",
        "\n",
        "4. `fig1.update_layout(...)`: This line updates the layout of the figure. It sets the title of the plot, labels the x-axis and y-axis, and sets the gap between the bars.\n",
        "\n",
        "5. `fig1.show()`: Finally, this line displays the figure."
      ],
      "metadata": {
        "id": "r7D5bHq-Xlzq"
      }
    },
    {
      "cell_type": "code",
      "source": [
        "tesla_volatility = tesla_data['Daily_Return'].std()\n",
        "vw_volatility = vw_data['Daily_Return'].std()\n",
        "\n",
        "fig1 = go.Figure()\n",
        "fig1.add_bar(x=['tesla', 'vw'], y=[tesla_volatility, vw_volatility],\n",
        "             text=[f'{tesla_volatility:.4f}', f'{vw_volatility:.4f}'],\n",
        "             textposition='auto', marker=dict(color=['blue', 'green']))\n",
        "\n",
        "fig1.update_layout(title='Volatility Comparison (Last Quarter)',\n",
        "                   xaxis_title='Stock', yaxis_title='Volatility (Standard Deviation)',\n",
        "                   bargap=0.5)\n",
        "fig1.show()"
      ],
      "metadata": {
        "id": "9SyMDYTAXngL"
      },
      "execution_count": null,
      "outputs": []
    },
    {
      "cell_type": "markdown",
      "source": [
        "1. `market_data = yf.download('^GSPC', start=start_date, end=end_date)`: This line downloads the historical market data for the S&P 500 index from Yahoo Finance.\n",
        "\n",
        "2. The next three lines calculate the daily return for Tesla, Volkswagen, and the S&P 500 index. The daily return is calculated as the percentage change in the adjusted closing price from one day to the next.\n",
        "\n",
        "3. `cov_tesla = tesla_data['Daily_Return'].cov(market_data['Daily_Return'])` and `cov_vw = vw_data['Daily_Return'].cov(market_data['Daily_Return'])`: These lines calculate the covariance between the daily returns of Tesla and Volkswagen and the S&P 500 index. Covariance measures how changes in one variable correspond with changes in another variable.\n",
        "\n",
        "4. `var_market = market_data['Daily_Return'].var()`: This line calculates the variance of the daily returns of the S&P 500 index. Variance is a measure of how spread out the numbers in a data set are.\n",
        "\n",
        "5. `beta_tesla = cov_tesla / var_market` and `beta_vw = cov_vw / var_market`: These lines calculate the beta for Tesla and Volkswagen. Beta is a measure of a stock's risk in relation to the market. It's calculated as the covariance between the stock's returns and the market's returns divided by the variance of the market's returns.\n",
        "\n",
        "6. The final four lines compare the betas of Tesla and Volkswagen, and print out the results. The stock with the higher beta is considered more volatile."
      ],
      "metadata": {
        "id": "OcIX3aXuXrsh"
      }
    },
    {
      "cell_type": "code",
      "source": [
        "market_data = yf.download('^GSPC', start=start_date, end=end_date)\n",
        "\n",
        "tesla_data['Daily_Return'] = tesla_data['Adj Close'].pct_change()\n",
        "vw_data['Daily_Return'] = vw_data['Adj Close'].pct_change()\n",
        "market_data['Daily_Return'] = market_data['Adj Close'].pct_change()\n",
        "\n",
        "cov_tesla = tesla_data['Daily_Return'].cov(market_data['Daily_Return'])\n",
        "var_market = market_data['Daily_Return'].var()\n",
        "\n",
        "beta_tesla = cov_tesla / var_market\n",
        "\n",
        "cov_vw = vw_data['Daily_Return'].cov(market_data['Daily_Return'])\n",
        "beta_vw = cov_vw / var_market\n",
        "\n",
        "if beta_tesla > beta_vw:\n",
        "    conclusion = \"tesla is more volatile (higher Beta) compared to vw.\"\n",
        "else:\n",
        "    conclusion = \"vw is more volatile (higher Beta) compared to tesla.\"\n",
        "\n",
        "print(\"Beta for tesla:\", beta_tesla)\n",
        "print(\"Beta for vw:\", beta_vw)\n",
        "print(conclusion)"
      ],
      "metadata": {
        "id": "YFHTiok7XsCO"
      },
      "execution_count": null,
      "outputs": []
    }
  ]
}